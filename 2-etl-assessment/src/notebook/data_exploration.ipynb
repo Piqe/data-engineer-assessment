{
 "cells": [
  {
   "cell_type": "markdown",
   "id": "da326dda",
   "metadata": {},
   "source": [
    "# 1. Import libraries\n"
   ]
  },
  {
   "cell_type": "code",
   "execution_count": 34,
   "id": "4b96458f",
   "metadata": {},
   "outputs": [],
   "source": [
    "import pandas as pd\n",
    "import numpy as np\n",
    "import matplotlib.pyplot as plt\n",
    "import seaborn as sns\n",
    "import os"
   ]
  },
  {
   "cell_type": "markdown",
   "id": "40a4126f",
   "metadata": {},
   "source": [
    "# 2. Load dataset\n"
   ]
  },
  {
   "cell_type": "code",
   "execution_count": 35,
   "id": "2dcce479",
   "metadata": {},
   "outputs": [
    {
     "name": "stdout",
     "output_type": "stream",
     "text": [
      "Asset Data Shape: (4908, 6)\n",
      "City Master Data Shape: (514, 5)\n"
     ]
    }
   ],
   "source": [
    "# Path relatif ke folder data\n",
    "BASE_DIR = os.path.abspath(os.path.join(os.getcwd(), \"../../data\"))\n",
    "asset_path = os.path.join(BASE_DIR, \"Assessment Data Asset Dummy.csv\")\n",
    "city_path = os.path.join(BASE_DIR, \"City Indonesia.csv\")\n",
    "\n",
    "# Load data\n",
    "df_asset = pd.read_csv(asset_path)\n",
    "df_city = pd.read_csv(city_path)\n",
    "\n",
    "print(\"Asset Data Shape:\", df_asset.shape)\n",
    "print(\"City Master Data Shape:\", df_city.shape)"
   ]
  },
  {
   "cell_type": "code",
   "execution_count": 36,
   "id": "1f93adfe",
   "metadata": {},
   "outputs": [
    {
     "name": "stdout",
     "output_type": "stream",
     "text": [
      "✅ All required fields exist\n",
      "\n",
      "Missing values per required field:\n",
      "Funcloc      0\n",
      "Alamat1      0\n",
      "Alamat2     24\n",
      "Alamat3     31\n",
      "Alamat4      0\n",
      "SiteName     0\n",
      "dtype: int64\n"
     ]
    }
   ],
   "source": [
    "required_fields = [\"Funcloc\", \"Alamat1\", \"Alamat2\", \"Alamat3\", \"Alamat4\", \"SiteName\"]\n",
    "missing_fields = [col for col in required_fields if col not in df_asset.columns]\n",
    "\n",
    "if missing_fields:\n",
    "    print(\"❌ Missing required fields:\", missing_fields)\n",
    "else:\n",
    "    print(\"✅ All required fields exist\")\n",
    "\n",
    "# Cek missing values pada kolom wajib\n",
    "print(\"\\nMissing values per required field:\")\n",
    "print(df_asset[required_fields].isnull().sum())\n"
   ]
  },
  {
   "cell_type": "code",
   "execution_count": 37,
   "id": "a4c8b5ce",
   "metadata": {},
   "outputs": [
    {
     "name": "stdout",
     "output_type": "stream",
     "text": [
      "\n",
      "Data Types Check:\n",
      "City        object\n",
      "Province    object\n",
      "dtype: object\n"
     ]
    }
   ],
   "source": [
    "# Validasi format teks (provinsi, kabkot seharusnya string)\n",
    "print(\"\\nData Types Check:\")\n",
    "print(df_city[[\"City\", \"Province\"]].dtypes)\n",
    "\n",
    "# Contoh: normalisasi kapitalisasi\n",
    "df_city[\"Province\"] = df_city[\"Province\"].str.title().str.strip()\n",
    "df_city[\"City\"] = df_city[\"City\"].str.title().str.strip()"
   ]
  },
  {
   "cell_type": "code",
   "execution_count": 38,
   "id": "7b506158",
   "metadata": {},
   "outputs": [
    {
     "name": "stdout",
     "output_type": "stream",
     "text": [
      "\n",
      "Numeric Columns: ['Funcloc']\n",
      "\n",
      "Check range for Funcloc:\n",
      "Min: 100000000002  | Max: 100000059270\n"
     ]
    }
   ],
   "source": [
    "numeric_cols = df_asset.select_dtypes(include=[np.number]).columns.tolist()\n",
    "print(\"\\nNumeric Columns:\", numeric_cols)\n",
    "\n",
    "for col in numeric_cols:\n",
    "    print(f\"\\nCheck range for {col}:\")\n",
    "    print(\"Min:\", df_asset[col].min(), \" | Max:\", df_asset[col].max())\n",
    "\n",
    "# Bisa tambahkan aturan, misalnya kapasitas tidak boleh negatif\n",
    "if \"Capacity\" in df_asset.columns:\n",
    "    invalid_capacity = df_asset[df_asset[\"Capacity\"] < 0]\n",
    "    print(f\"Invalid Capacity Count: {len(invalid_capacity)}\")"
   ]
  },
  {
   "cell_type": "code",
   "execution_count": 39,
   "id": "83799601",
   "metadata": {},
   "outputs": [
    {
     "name": "stdout",
     "output_type": "stream",
     "text": [
      "\n",
      "Referential Integrity Check:\n",
      "Total Asset Records: 4908\n",
      "Unmatched with City Master: 4908\n"
     ]
    },
    {
     "data": {
      "application/vnd.microsoft.datawrangler.viewer.v0+json": {
       "columns": [
        {
         "name": "index",
         "rawType": "int64",
         "type": "integer"
        },
        {
         "name": "Funcloc",
         "rawType": "int64",
         "type": "integer"
        },
        {
         "name": "Alamat1",
         "rawType": "object",
         "type": "string"
        },
        {
         "name": "Alamat2",
         "rawType": "object",
         "type": "string"
        },
        {
         "name": "Alamat3",
         "rawType": "object",
         "type": "string"
        },
        {
         "name": "Alamat4",
         "rawType": "object",
         "type": "string"
        },
        {
         "name": "SiteName",
         "rawType": "object",
         "type": "string"
        },
        {
         "name": "City",
         "rawType": "object",
         "type": "unknown"
        },
        {
         "name": "CityCode",
         "rawType": "object",
         "type": "unknown"
        },
        {
         "name": "Province",
         "rawType": "object",
         "type": "unknown"
        },
        {
         "name": "Region",
         "rawType": "object",
         "type": "unknown"
        },
        {
         "name": "RegionalCode",
         "rawType": "float64",
         "type": "float"
        }
       ],
       "ref": "e0d0980f-658c-493e-bf0c-650eb3bba5d1",
       "rows": [
        [
         "0",
         "100000000002",
         "Desa Alun Dua",
         "Desa Alun Dua",
         "Kecamatan Kerkap",
         "BENGKULU UTARA",
         "Steele-Phillips",
         null,
         null,
         null,
         null,
         null
        ],
        [
         "1",
         "100000000003",
         "Desa Padang Maninjau",
         "Kel. Desa Padang Maninjau",
         "Kec. Aek Kuo",
         "LABUHANBATU UTARA",
         "Herrera, Barnes and Taylor",
         null,
         null,
         null,
         null,
         null
        ],
        [
         "2",
         "100000000004",
         "Desa Bio-Bio",
         "Kel. Bandar Durian",
         "Kec. Aek Natas",
         "LABUHANBATU UTARA",
         "Lee Group",
         null,
         null,
         null,
         null,
         null
        ],
        [
         "3",
         "100000000005",
         "Rintis Kacang",
         "Desa Pangakalan",
         "Kec. Aek Natas",
         "LABUHANBATU UTARA",
         "Barton Inc",
         null,
         null,
         null,
         null,
         null
        ],
        [
         "4",
         "100000000006",
         "Dusun VI Sidodadi",
         "Desa Marbau Selatan",
         "Kec. Marbau",
         "LABUHANBATU UTARA",
         "Cole, Molina and Williams",
         null,
         null,
         null,
         null,
         null
        ]
       ],
       "shape": {
        "columns": 11,
        "rows": 5
       }
      },
      "text/html": [
       "<div>\n",
       "<style scoped>\n",
       "    .dataframe tbody tr th:only-of-type {\n",
       "        vertical-align: middle;\n",
       "    }\n",
       "\n",
       "    .dataframe tbody tr th {\n",
       "        vertical-align: top;\n",
       "    }\n",
       "\n",
       "    .dataframe thead th {\n",
       "        text-align: right;\n",
       "    }\n",
       "</style>\n",
       "<table border=\"1\" class=\"dataframe\">\n",
       "  <thead>\n",
       "    <tr style=\"text-align: right;\">\n",
       "      <th></th>\n",
       "      <th>Funcloc</th>\n",
       "      <th>Alamat1</th>\n",
       "      <th>Alamat2</th>\n",
       "      <th>Alamat3</th>\n",
       "      <th>Alamat4</th>\n",
       "      <th>SiteName</th>\n",
       "      <th>City</th>\n",
       "      <th>CityCode</th>\n",
       "      <th>Province</th>\n",
       "      <th>Region</th>\n",
       "      <th>RegionalCode</th>\n",
       "    </tr>\n",
       "  </thead>\n",
       "  <tbody>\n",
       "    <tr>\n",
       "      <th>0</th>\n",
       "      <td>100000000002</td>\n",
       "      <td>Desa Alun Dua</td>\n",
       "      <td>Desa Alun Dua</td>\n",
       "      <td>Kecamatan Kerkap</td>\n",
       "      <td>BENGKULU UTARA</td>\n",
       "      <td>Steele-Phillips</td>\n",
       "      <td>NaN</td>\n",
       "      <td>NaN</td>\n",
       "      <td>NaN</td>\n",
       "      <td>NaN</td>\n",
       "      <td>NaN</td>\n",
       "    </tr>\n",
       "    <tr>\n",
       "      <th>1</th>\n",
       "      <td>100000000003</td>\n",
       "      <td>Desa Padang Maninjau</td>\n",
       "      <td>Kel. Desa Padang Maninjau</td>\n",
       "      <td>Kec. Aek Kuo</td>\n",
       "      <td>LABUHANBATU UTARA</td>\n",
       "      <td>Herrera, Barnes and Taylor</td>\n",
       "      <td>NaN</td>\n",
       "      <td>NaN</td>\n",
       "      <td>NaN</td>\n",
       "      <td>NaN</td>\n",
       "      <td>NaN</td>\n",
       "    </tr>\n",
       "    <tr>\n",
       "      <th>2</th>\n",
       "      <td>100000000004</td>\n",
       "      <td>Desa Bio-Bio</td>\n",
       "      <td>Kel. Bandar Durian</td>\n",
       "      <td>Kec. Aek Natas</td>\n",
       "      <td>LABUHANBATU UTARA</td>\n",
       "      <td>Lee Group</td>\n",
       "      <td>NaN</td>\n",
       "      <td>NaN</td>\n",
       "      <td>NaN</td>\n",
       "      <td>NaN</td>\n",
       "      <td>NaN</td>\n",
       "    </tr>\n",
       "    <tr>\n",
       "      <th>3</th>\n",
       "      <td>100000000005</td>\n",
       "      <td>Rintis Kacang</td>\n",
       "      <td>Desa Pangakalan</td>\n",
       "      <td>Kec. Aek Natas</td>\n",
       "      <td>LABUHANBATU UTARA</td>\n",
       "      <td>Barton Inc</td>\n",
       "      <td>NaN</td>\n",
       "      <td>NaN</td>\n",
       "      <td>NaN</td>\n",
       "      <td>NaN</td>\n",
       "      <td>NaN</td>\n",
       "    </tr>\n",
       "    <tr>\n",
       "      <th>4</th>\n",
       "      <td>100000000006</td>\n",
       "      <td>Dusun VI Sidodadi</td>\n",
       "      <td>Desa Marbau Selatan</td>\n",
       "      <td>Kec. Marbau</td>\n",
       "      <td>LABUHANBATU UTARA</td>\n",
       "      <td>Cole, Molina and Williams</td>\n",
       "      <td>NaN</td>\n",
       "      <td>NaN</td>\n",
       "      <td>NaN</td>\n",
       "      <td>NaN</td>\n",
       "      <td>NaN</td>\n",
       "    </tr>\n",
       "  </tbody>\n",
       "</table>\n",
       "</div>"
      ],
      "text/plain": [
       "        Funcloc               Alamat1                    Alamat2  \\\n",
       "0  100000000002         Desa Alun Dua              Desa Alun Dua   \n",
       "1  100000000003  Desa Padang Maninjau  Kel. Desa Padang Maninjau   \n",
       "2  100000000004          Desa Bio-Bio         Kel. Bandar Durian   \n",
       "3  100000000005         Rintis Kacang            Desa Pangakalan   \n",
       "4  100000000006     Dusun VI Sidodadi        Desa Marbau Selatan   \n",
       "\n",
       "            Alamat3            Alamat4                    SiteName City  \\\n",
       "0  Kecamatan Kerkap     BENGKULU UTARA             Steele-Phillips  NaN   \n",
       "1      Kec. Aek Kuo  LABUHANBATU UTARA  Herrera, Barnes and Taylor  NaN   \n",
       "2    Kec. Aek Natas  LABUHANBATU UTARA                   Lee Group  NaN   \n",
       "3    Kec. Aek Natas  LABUHANBATU UTARA                  Barton Inc  NaN   \n",
       "4       Kec. Marbau  LABUHANBATU UTARA   Cole, Molina and Williams  NaN   \n",
       "\n",
       "  CityCode Province Region  RegionalCode  \n",
       "0      NaN      NaN    NaN           NaN  \n",
       "1      NaN      NaN    NaN           NaN  \n",
       "2      NaN      NaN    NaN           NaN  \n",
       "3      NaN      NaN    NaN           NaN  \n",
       "4      NaN      NaN    NaN           NaN  "
      ]
     },
     "metadata": {},
     "output_type": "display_data"
    }
   ],
   "source": [
    "merged = df_asset.merge(df_city, left_on=\"Alamat4\", right_on=\"City\", how=\"left\")\n",
    "\n",
    "unmatched = merged[merged[\"CityCode\"].isnull()]\n",
    "\n",
    "print(\"\\nReferential Integrity Check:\")\n",
    "print(f\"Total Asset Records: {len(df_asset)}\")\n",
    "print(f\"Unmatched with City Master: {len(unmatched)}\")\n",
    "\n",
    "if not unmatched.empty:\n",
    "    display(unmatched.head())"
   ]
  },
  {
   "cell_type": "markdown",
   "id": "09e2ed57",
   "metadata": {},
   "source": [
    "# 3. Basic info\n"
   ]
  },
  {
   "cell_type": "code",
   "execution_count": 40,
   "id": "006d7d71",
   "metadata": {},
   "outputs": [
    {
     "name": "stdout",
     "output_type": "stream",
     "text": [
      "===== Raw Asset Data =====\n",
      "        Funcloc               Alamat1                    Alamat2  \\\n",
      "0  100000000002         Desa Alun Dua              Desa Alun Dua   \n",
      "1  100000000003  Desa Padang Maninjau  Kel. Desa Padang Maninjau   \n",
      "2  100000000004          Desa Bio-Bio         Kel. Bandar Durian   \n",
      "3  100000000005         Rintis Kacang            Desa Pangakalan   \n",
      "4  100000000006     Dusun VI Sidodadi        Desa Marbau Selatan   \n",
      "\n",
      "            Alamat3            Alamat4                    SiteName  \n",
      "0  Kecamatan Kerkap     BENGKULU UTARA             Steele-Phillips  \n",
      "1      Kec. Aek Kuo  LABUHANBATU UTARA  Herrera, Barnes and Taylor  \n",
      "2    Kec. Aek Natas  LABUHANBATU UTARA                   Lee Group  \n",
      "3    Kec. Aek Natas  LABUHANBATU UTARA                  Barton Inc  \n",
      "4       Kec. Marbau  LABUHANBATU UTARA   Cole, Molina and Williams  \n",
      "<class 'pandas.core.frame.DataFrame'>\n",
      "RangeIndex: 4908 entries, 0 to 4907\n",
      "Data columns (total 6 columns):\n",
      " #   Column    Non-Null Count  Dtype \n",
      "---  ------    --------------  ----- \n",
      " 0   Funcloc   4908 non-null   int64 \n",
      " 1   Alamat1   4908 non-null   object\n",
      " 2   Alamat2   4884 non-null   object\n",
      " 3   Alamat3   4877 non-null   object\n",
      " 4   Alamat4   4908 non-null   object\n",
      " 5   SiteName  4908 non-null   object\n",
      "dtypes: int64(1), object(5)\n",
      "memory usage: 230.2+ KB\n",
      "None\n"
     ]
    }
   ],
   "source": [
    "print(\"===== Raw Asset Data =====\")\n",
    "print(df_asset.head())\n",
    "print(df_asset.info())"
   ]
  },
  {
   "cell_type": "code",
   "execution_count": 41,
   "id": "a5c66787",
   "metadata": {},
   "outputs": [
    {
     "name": "stdout",
     "output_type": "stream",
     "text": [
      "===== Master City Data =====\n",
      "                        City CityCode       Province    Region  RegionalCode\n",
      "0       Kabupaten Aceh Barat      MBO  Provinsi Aceh  Sumbagut             1\n",
      "1  Kabupaten Aceh Barat Daya      BPD  Provinsi Aceh  Sumbagut             1\n",
      "2       Kabupaten Aceh Besar      JTH  Provinsi Aceh  Sumbagut             1\n",
      "3        Kabupaten Aceh Jaya      CAG  Provinsi Aceh  Sumbagut             1\n",
      "4     Kabupaten Aceh Selatan      TTN  Provinsi Aceh  Sumbagut             1\n",
      "<class 'pandas.core.frame.DataFrame'>\n",
      "RangeIndex: 514 entries, 0 to 513\n",
      "Data columns (total 5 columns):\n",
      " #   Column        Non-Null Count  Dtype \n",
      "---  ------        --------------  ----- \n",
      " 0   City          514 non-null    object\n",
      " 1   CityCode      514 non-null    object\n",
      " 2   Province      514 non-null    object\n",
      " 3   Region        514 non-null    object\n",
      " 4   RegionalCode  514 non-null    int64 \n",
      "dtypes: int64(1), object(4)\n",
      "memory usage: 20.2+ KB\n",
      "None\n"
     ]
    }
   ],
   "source": [
    "print(\"===== Master City Data =====\")\n",
    "print(df_city.head())\n",
    "print(df_city.info())"
   ]
  },
  {
   "cell_type": "markdown",
   "id": "ed01c0ed",
   "metadata": {},
   "source": [
    "# 4. Check Missing Values\n"
   ]
  },
  {
   "cell_type": "code",
   "execution_count": 42,
   "id": "080bd3cf",
   "metadata": {},
   "outputs": [
    {
     "name": "stdout",
     "output_type": "stream",
     "text": [
      "\n",
      "Missing Values in Raw Asset:\n",
      "Funcloc      0\n",
      "Alamat1      0\n",
      "Alamat2     24\n",
      "Alamat3     31\n",
      "Alamat4      0\n",
      "SiteName     0\n",
      "dtype: int64\n"
     ]
    }
   ],
   "source": [
    "print(\"\\nMissing Values in Raw Asset:\")\n",
    "print(raw_asset.isnull().sum())"
   ]
  },
  {
   "cell_type": "code",
   "execution_count": 43,
   "id": "bc0cfd63",
   "metadata": {},
   "outputs": [
    {
     "name": "stdout",
     "output_type": "stream",
     "text": [
      "\n",
      "Missing Values in Master City:\n",
      "City            0\n",
      "CityCode        0\n",
      "Province        0\n",
      "Region          0\n",
      "RegionalCode    0\n",
      "dtype: int64\n"
     ]
    }
   ],
   "source": [
    "print(\"\\nMissing Values in Master City:\")\n",
    "print(df_city.isnull().sum())"
   ]
  },
  {
   "cell_type": "markdown",
   "id": "561aa81f",
   "metadata": {},
   "source": [
    "# 6. Data Quality Checks\n"
   ]
  },
  {
   "cell_type": "code",
   "execution_count": 46,
   "id": "c90bf828",
   "metadata": {},
   "outputs": [
    {
     "name": "stdout",
     "output_type": "stream",
     "text": [
      "Missing Funcloc: 0\n",
      "Missing Alamat4: 0\n"
     ]
    }
   ],
   "source": [
    "# a. Required Fields\n",
    "required_cols = [\"Funcloc\", \"Alamat4\"]\n",
    "for col in required_cols:\n",
    "    missing = raw_asset[col].isnull().sum()\n",
    "    print(f\"Missing {col}: {missing}\")"
   ]
  },
  {
   "cell_type": "code",
   "execution_count": 47,
   "id": "1d5e7f38",
   "metadata": {},
   "outputs": [
    {
     "name": "stdout",
     "output_type": "stream",
     "text": [
      "Funcloc unique sample: [100000000002 100000000003 100000000004 100000000005 100000000006\n",
      " 100000000007 100000000008 100000000009 100000000010 100000000011]\n"
     ]
    }
   ],
   "source": [
    "# b. Validate numeric ranges (contoh: cek ID numeric jika ada)\n",
    "if 'Funcloc' in raw_asset.columns:\n",
    "    print(\"Funcloc unique sample:\", raw_asset['Funcloc'].unique()[:10])"
   ]
  },
  {
   "cell_type": "code",
   "execution_count": 48,
   "id": "d9653b15",
   "metadata": {},
   "outputs": [
    {
     "name": "stdout",
     "output_type": "stream",
     "text": [
      "\n",
      "Unmatched cities (sample): ['GUNUNGSITOLI, KOTA', 'BOLAANG MONGONDOW SELATAN', 'MANDAILING NATAL', 'SIGI', 'BANDA ACEH, KOTA', 'Lembata', 'ACEH UTARA', 'Kediri', 'BIMA', 'Jombang', 'Sumbawa', 'BLORA', 'KARANGASEM', 'BUNGO', 'Jeneponto', 'TAPANULI UTARA', 'GORONTALO', 'MOROWALI', 'PONTIANAK, KOTA', 'Lampung Selatan']\n"
     ]
    }
   ],
   "source": [
    "# c. Referential integrity check: apakah Alamat4 ada di master city\n",
    "unmatched_cities = set(raw_asset['Alamat4'].unique()) - set(master_city['City'].unique())\n",
    "print(\"\\nUnmatched cities (sample):\", list(unmatched_cities)[:20])"
   ]
  },
  {
   "cell_type": "markdown",
   "id": "063f683e",
   "metadata": {},
   "source": [
    "# 7. Summary Statistics\n"
   ]
  },
  {
   "cell_type": "code",
   "execution_count": 49,
   "id": "b7071bee",
   "metadata": {},
   "outputs": [
    {
     "name": "stdout",
     "output_type": "stream",
     "text": [
      "\n",
      "Summary statistics Raw Asset:\n",
      "             Funcloc                           Alamat1     Alamat2  \\\n",
      "count   4.908000e+03                              4908        4884   \n",
      "unique           NaN                              4793        4624   \n",
      "top              NaN  Gd.GrahaPratamalt.5,jl.MT Haryon  kel. Bogor   \n",
      "freq             NaN                                 8          14   \n",
      "mean    1.000000e+11                               NaN         NaN   \n",
      "std     1.554809e+04                               NaN         NaN   \n",
      "min     1.000000e+11                               NaN         NaN   \n",
      "25%     1.000000e+11                               NaN         NaN   \n",
      "50%     1.000000e+11                               NaN         NaN   \n",
      "75%     1.000000e+11                               NaN         NaN   \n",
      "max     1.000001e+11                               NaN         NaN   \n",
      "\n",
      "           Alamat3 Alamat4        SiteName  \n",
      "count         4877    4908            4908  \n",
      "unique        4103     698            4460  \n",
      "top     kec. Bogor   BOGOR  Smith and Sons  \n",
      "freq            12      67               8  \n",
      "mean           NaN     NaN             NaN  \n",
      "std            NaN     NaN             NaN  \n",
      "min            NaN     NaN             NaN  \n",
      "25%            NaN     NaN             NaN  \n",
      "50%            NaN     NaN             NaN  \n",
      "75%            NaN     NaN             NaN  \n",
      "max            NaN     NaN             NaN  \n"
     ]
    }
   ],
   "source": [
    "print(\"\\nSummary statistics Raw Asset:\")\n",
    "print(raw_asset.describe(include='all'))"
   ]
  },
  {
   "cell_type": "code",
   "execution_count": 50,
   "id": "cf0b9f6f",
   "metadata": {},
   "outputs": [
    {
     "name": "stdout",
     "output_type": "stream",
     "text": [
      "\n",
      "Summary statistics Master City:\n",
      "                        City CityCode             Province    Region  \\\n",
      "count                    514      514                  514       514   \n",
      "unique                   514      501                   34        11   \n",
      "top     Kabupaten Aceh Barat      JAP  Provinsi Jawa Timur  Sulawesi   \n",
      "freq                       1        2                   38        91   \n",
      "mean                     NaN      NaN                  NaN       NaN   \n",
      "std                      NaN      NaN                  NaN       NaN   \n",
      "min                      NaN      NaN                  NaN       NaN   \n",
      "25%                      NaN      NaN                  NaN       NaN   \n",
      "50%                      NaN      NaN                  NaN       NaN   \n",
      "75%                      NaN      NaN                  NaN       NaN   \n",
      "max                      NaN      NaN                  NaN       NaN   \n",
      "\n",
      "        RegionalCode  \n",
      "count     514.000000  \n",
      "unique           NaN  \n",
      "top              NaN  \n",
      "freq             NaN  \n",
      "mean        6.468872  \n",
      "std         3.429036  \n",
      "min         1.000000  \n",
      "25%         3.000000  \n",
      "50%         7.000000  \n",
      "75%        10.000000  \n",
      "max        11.000000  \n"
     ]
    }
   ],
   "source": [
    "print(\"\\nSummary statistics Master City:\")\n",
    "print(df_city.describe(include='all'))"
   ]
  }
 ],
 "metadata": {
  "kernelspec": {
   "display_name": ".conda",
   "language": "python",
   "name": "python3"
  },
  "language_info": {
   "codemirror_mode": {
    "name": "ipython",
    "version": 3
   },
   "file_extension": ".py",
   "mimetype": "text/x-python",
   "name": "python",
   "nbconvert_exporter": "python",
   "pygments_lexer": "ipython3",
   "version": "3.11.13"
  }
 },
 "nbformat": 4,
 "nbformat_minor": 5
}
